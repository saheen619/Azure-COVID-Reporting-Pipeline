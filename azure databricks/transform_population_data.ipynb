{
 "cells": [
  {
   "cell_type": "markdown",
   "metadata": {
    "application/vnd.databricks.v1+cell": {
     "cellMetadata": {},
     "inputWidgets": {},
     "nuid": "5760c7c1-4514-430b-8290-248dadb1e368",
     "showTitle": false,
     "title": ""
    }
   },
   "source": [
    "## Transform Population By Age data by performing the transformations below\n",
    "####-----------------------------------------------------------------------\n",
    "1. Split the country code & age group\n",
    "2. Exclude all data other than 2019\n",
    "3. Remove non numeric data from percentage\n",
    "4. Pivot the data by age group\n",
    "5. Join to country_lookup to get the country, 3 digit country code and the total population.\n",
    "\n",
    "####-----------------------------------------------------------------------"
   ]
  },
  {
   "cell_type": "markdown",
   "metadata": {
    "application/vnd.databricks.v1+cell": {
     "cellMetadata": {},
     "inputWidgets": {},
     "nuid": "16e9ff2e-1905-4b25-ac9e-e50051f0d8c4",
     "showTitle": false,
     "title": ""
    }
   },
   "source": [
    "### Replace **storage account name** with your storage account name before executing."
   ]
  },
  {
   "cell_type": "code",
   "execution_count": 0,
   "metadata": {
    "application/vnd.databricks.v1+cell": {
     "cellMetadata": {},
     "inputWidgets": {},
     "nuid": "27a3b034-7ab4-470b-83d8-a1028c969fd7",
     "showTitle": false,
     "title": ""
    }
   },
   "outputs": [],
   "source": [
    "from pyspark.sql.functions import *"
   ]
  },
  {
   "cell_type": "markdown",
   "metadata": {
    "application/vnd.databricks.v1+cell": {
     "cellMetadata": {},
     "inputWidgets": {},
     "nuid": "72e7ff63-483b-4488-b850-7e93d3f0285a",
     "showTitle": false,
     "title": ""
    }
   },
   "source": [
    "### Read the population data & create a temp view"
   ]
  },
  {
   "cell_type": "code",
   "execution_count": 0,
   "metadata": {
    "application/vnd.databricks.v1+cell": {
     "cellMetadata": {},
     "inputWidgets": {},
     "nuid": "7618460c-4b44-4382-86e7-898c5b0d6d1b",
     "showTitle": false,
     "title": ""
    }
   },
   "outputs": [],
   "source": [
    "df_raw_population = spark.read.csv(\"/mnt/covidreportingdl00619/raw/population\", sep=r'\\t', header=True)\n",
    "df_raw_population = df_raw_population.withColumn('age_group', regexp_replace(split(df_raw_population['indic_de,geo\\\\time'], ',')[0], 'PC_', '')).withColumn('country_code', split(df_raw_population['indic_de,geo\\\\time'], ',')[1])\n",
    "df_raw_population = df_raw_population.select(col(\"country_code\").alias(\"country_code\"),\n",
    "                                             col(\"age_group\").alias(\"age_group\"),\n",
    "                                             col(\"2019 \").alias(\"percentage_2019\"))\n",
    "df_raw_population.createOrReplaceTempView(\"raw_population\")"
   ]
  },
  {
   "cell_type": "markdown",
   "metadata": {
    "application/vnd.databricks.v1+cell": {
     "cellMetadata": {},
     "inputWidgets": {},
     "nuid": "7c6a9ac6-7b06-443d-99cf-389f1cf5ddce",
     "showTitle": false,
     "title": ""
    }
   },
   "source": [
    "### Pivot the data by age group"
   ]
  },
  {
   "cell_type": "code",
   "execution_count": 0,
   "metadata": {
    "application/vnd.databricks.v1+cell": {
     "cellMetadata": {},
     "inputWidgets": {},
     "nuid": "088d58f1-19d4-47ca-87e3-2ba58c8dc0f8",
     "showTitle": false,
     "title": ""
    }
   },
   "outputs": [],
   "source": [
    "# Create a data frame with pivoted percentages\n",
    "df_raw_population_pivot = spark.sql(\"SELECT country_code, age_group, cast(regexp_replace(percentage_2019, '[a-z]', '') AS decimal(4,2)) AS percentage_2019 FROM raw_population WHERE length(country_code) = 2\").groupBy(\"country_code\").pivot(\"age_group\").sum(\"percentage_2019\").orderBy(\"country_code\")\n",
    "df_raw_population_pivot.createOrReplaceTempView(\"raw_population_pivot\")"
   ]
  },
  {
   "cell_type": "markdown",
   "metadata": {
    "application/vnd.databricks.v1+cell": {
     "cellMetadata": {},
     "inputWidgets": {},
     "nuid": "30057880-e2f4-48c4-b03b-2d665d537290",
     "showTitle": false,
     "title": ""
    }
   },
   "source": [
    "### Read the country lookup"
   ]
  },
  {
   "cell_type": "code",
   "execution_count": 0,
   "metadata": {
    "application/vnd.databricks.v1+cell": {
     "cellMetadata": {},
     "inputWidgets": {},
     "nuid": "a3ea3a3e-1e49-49b0-955b-0bd8d897900f",
     "showTitle": false,
     "title": ""
    }
   },
   "outputs": [],
   "source": [
    "# Create a data frame for the country lookup\n",
    "df_country_lookup = spark.read.csv(\"/mnt/covidreportingdl00619/lookup/country_lookup\", sep=r',', header=True)\n",
    "df_country_lookup.createOrReplaceTempView(\"country_lookup\")"
   ]
  },
  {
   "cell_type": "markdown",
   "metadata": {
    "application/vnd.databricks.v1+cell": {
     "cellMetadata": {},
     "inputWidgets": {},
     "nuid": "adb41a9b-bc71-4447-b4ef-215dd1470d2d",
     "showTitle": false,
     "title": ""
    }
   },
   "source": [
    "### Join population data with country lookup"
   ]
  },
  {
   "cell_type": "code",
   "execution_count": 0,
   "metadata": {
    "application/vnd.databricks.v1+cell": {
     "cellMetadata": {},
     "inputWidgets": {},
     "nuid": "ba0e5fff-95d5-4741-87b1-c3fd58d971dc",
     "showTitle": false,
     "title": ""
    }
   },
   "outputs": [],
   "source": [
    "df_processed_population = spark.sql(\"\"\"SELECT c.country,\n",
    "       c.country_code_2_digit,\n",
    "       c.country_code_3_digit,\n",
    "       c.population,\n",
    "       p.Y0_14  AS age_group_0_14,\n",
    "       p.Y15_24 AS age_group_15_24,\n",
    "       p.Y25_49 AS age_group_25_49,\n",
    "       p.Y50_64 AS age_group_50_64, \n",
    "       p.Y65_79 AS age_group_65_79,\n",
    "       p.Y80_MAX AS age_group_80_max\n",
    "  FROM raw_population_pivot p\n",
    "  JOIN country_lookup c ON p.country_code = country_code_2_digit\n",
    " ORDER BY country\"\"\")"
   ]
  },
  {
   "cell_type": "markdown",
   "metadata": {
    "application/vnd.databricks.v1+cell": {
     "cellMetadata": {},
     "inputWidgets": {},
     "nuid": "c3db70a3-92c2-45e4-8980-bd6b6e0f0662",
     "showTitle": false,
     "title": ""
    }
   },
   "source": [
    "### Write output to the processed mount point"
   ]
  },
  {
   "cell_type": "code",
   "execution_count": 0,
   "metadata": {
    "application/vnd.databricks.v1+cell": {
     "cellMetadata": {},
     "inputWidgets": {},
     "nuid": "2d7cd8a5-d9e3-4e5a-8e38-fa7b94c99ca5",
     "showTitle": false,
     "title": ""
    }
   },
   "outputs": [],
   "source": [
    "df_processed_population.write.format(\"com.databricks.spark.csv\").option(\"header\",\"true\").option(\"delimiter\", \",\").mode(\"overwrite\").save(\"/mnt/covidreportingdl00619/processed/population\")"
   ]
  }
 ],
 "metadata": {
  "application/vnd.databricks.v1+notebook": {
   "dashboards": [],
   "language": "python",
   "notebookMetadata": {
    "pythonIndentUnit": 4
   },
   "notebookName": "transform_population_data",
   "widgets": {}
  }
 },
 "nbformat": 4,
 "nbformat_minor": 0
}
